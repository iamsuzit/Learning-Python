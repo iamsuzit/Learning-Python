{
 "cells": [
  {
   "cell_type": "code",
   "execution_count": 42,
   "id": "584279a2",
   "metadata": {},
   "outputs": [],
   "source": [
    "programming_dictionary = {\n",
    "                          \"Bug\": \"An error\", \n",
    "                          \"Function\": \"block of code\"\n",
    "                            }"
   ]
  },
  {
   "cell_type": "code",
   "execution_count": 43,
   "id": "41f135ef",
   "metadata": {},
   "outputs": [
    {
     "data": {
      "text/plain": [
       "'An error'"
      ]
     },
     "execution_count": 43,
     "metadata": {},
     "output_type": "execute_result"
    }
   ],
   "source": [
    "programming_dictionary[\"Bug\"]"
   ]
  },
  {
   "cell_type": "code",
   "execution_count": 44,
   "id": "7d8a5de3",
   "metadata": {},
   "outputs": [],
   "source": [
    "programming_dictionary[\"Loop\"] = \"The action of doing something over and over again.\""
   ]
  },
  {
   "cell_type": "code",
   "execution_count": 45,
   "id": "20d26790",
   "metadata": {},
   "outputs": [
    {
     "data": {
      "text/plain": [
       "{'Bug': 'An error',\n",
       " 'Function': 'block of code',\n",
       " 'Loop': 'The action of doing something over and over again.'}"
      ]
     },
     "execution_count": 45,
     "metadata": {},
     "output_type": "execute_result"
    }
   ],
   "source": [
    "programming_dictionary"
   ]
  },
  {
   "cell_type": "code",
   "execution_count": 46,
   "id": "dbb814de",
   "metadata": {},
   "outputs": [
    {
     "name": "stdout",
     "output_type": "stream",
     "text": [
      "An error\n",
      "block of code\n",
      "The action of doing something over and over again.\n"
     ]
    }
   ],
   "source": [
    "for key in programming_dictionary:\n",
    "    print(programming_dictionary[key])"
   ]
  },
  {
   "cell_type": "markdown",
   "id": "21d98a80",
   "metadata": {},
   "source": [
    "# "
   ]
  },
  {
   "cell_type": "code",
   "execution_count": null,
   "id": "bea2169f",
   "metadata": {},
   "outputs": [],
   "source": [
    "# Grading program\n",
    "\n",
    "student_scores = {\n",
    "  \"Harry\": 81,\n",
    "  \"Ron\": 78,\n",
    "  \"Hermione\": 99, \n",
    "  \"Draco\": 74,\n",
    "  \"Neville\": 62,\n",
    "}\n",
    "\n",
    "student_grades = {}\n",
    "\n",
    "def std_grades():\n",
    "    for key in student_scores:\n",
    "        if student_scores[key] > 90: \n",
    "            student_grades[key] = \"Outstanding\"\n",
    "        elif student_scores[key] > 80:\n",
    "            student_grades[key] = \"Exceeds Expectations\"\n",
    "        elif student_scores[key] > 70:\n",
    "            student_grades[key] = \"Acceptable\"\n",
    "        else:\n",
    "            student_grades[key] = \"Fail\"\n",
    "    return student_grades\n",
    "\n",
    "std_grades()"
   ]
  },
  {
   "cell_type": "markdown",
   "id": "d8765145",
   "metadata": {},
   "source": [
    "# "
   ]
  },
  {
   "cell_type": "code",
   "execution_count": 3,
   "id": "971f62e3",
   "metadata": {},
   "outputs": [],
   "source": [
    "# Nesting\n",
    "\n",
    "capitals = {\n",
    "    \"France\": \"Paris\",\n",
    "    \"Germany\": \"Berlin\",\n",
    "}\n",
    "\n",
    "# Nesting list and dict\n",
    "travel_log = {\n",
    "    \"France\": [\"Paris\", \"Lille\", \"Dijon\"]\n",
    "    \"Germany\":[\"Berlin\", \"Hamburg\", \"Stuttgart\"]\n",
    "}\n",
    "\n",
    "\n",
    "# Nesting Dict in a Dict\n",
    "\n",
    "travel_log = {\n",
    "    \"France\": {\"cities_visited\": [\"Paris\", \"Lille\", \"Dijon\"], \"total_visits\": 12},\n",
    "    \"Germany\": {\"cities_visited\": [\"Berlin\", \"Hamburg\", \"Stuttgart\"], \"total_visits\": 5},\n",
    "}\n",
    "\n",
    "# Nesting Dict in a List\n",
    "               \n",
    "travel_log = [\n",
    "    {\n",
    "     \"country\": \"France\", \n",
    "     \"cities_visited\": [\"Paris\", \"Lille\", \"Dijon\"], \n",
    "     \"total_visits\": 12\n",
    "    },\n",
    "    {\n",
    "     \"country\": \"Germany\", \n",
    "     \"cities_visited\": [\"Berlin\", \"Hamburg\", \"Stuttgart\"], \n",
    "     \"total_visits\": 5\n",
    "    },\n",
    "]\n",
    "               \n",
    "               "
   ]
  },
  {
   "cell_type": "code",
   "execution_count": 4,
   "id": "4c46168d",
   "metadata": {},
   "outputs": [
    {
     "data": {
      "text/plain": [
       "[{'country': 'France',\n",
       "  'cities_visited': ['Paris', 'Lille', 'Dijon'],\n",
       "  'total_visits': 12},\n",
       " {'country': 'Germany',\n",
       "  'cities_visited': ['Berlin', 'Hamburg', 'Stuttgart'],\n",
       "  'total_visits': 5}]"
      ]
     },
     "execution_count": 4,
     "metadata": {},
     "output_type": "execute_result"
    }
   ],
   "source": [
    "travel_log"
   ]
  },
  {
   "cell_type": "markdown",
   "id": "90bf9bdf",
   "metadata": {},
   "source": [
    "# "
   ]
  },
  {
   "cell_type": "code",
   "execution_count": 30,
   "id": "e5c3cea8",
   "metadata": {},
   "outputs": [
    {
     "name": "stdout",
     "output_type": "stream",
     "text": [
      "{'country': 'France', 'visits': 12, 'cities': ['Paris', 'Lille', 'Dijon']}\n",
      "{'country': 'Germany', 'visits': 5, 'cities': ['Berlin', 'Hamburg', 'Stuttgart']}\n",
      "{'country': 'Russia', 'visits': 2, 'cities': ['Moscow', 'Saint Petersburg']}\n"
     ]
    }
   ],
   "source": [
    "# Write a function to add the entry for Russia to the travel_log.\n",
    "\n",
    "travel_log = [\n",
    "{\n",
    "  \"country\": \"France\",\n",
    "  \"visits\": 12,\n",
    "  \"cities\": [\"Paris\", \"Lille\", \"Dijon\"]\n",
    "},\n",
    "{\n",
    "  \"country\": \"Germany\",\n",
    "  \"visits\": 5,\n",
    "  \"cities\": [\"Berlin\", \"Hamburg\", \"Stuttgart\"]\n",
    "},\n",
    "]\n",
    "\n",
    "def add_newCountry(name, visit, cities):\n",
    "    travel_log.append({\"country\" : name,\n",
    "                       \"visits\": visit,\n",
    "                       \"cities\": cities})\n",
    "    \n",
    "    for key in travel_log:\n",
    "        print(key)\n",
    "    \n",
    "    \n",
    "add_newCountry(\"Russia\", 2, [\"Moscow\", \"Saint Petersburg\"])"
   ]
  },
  {
   "cell_type": "markdown",
   "id": "156c4975",
   "metadata": {},
   "source": [
    "# "
   ]
  },
  {
   "cell_type": "code",
   "execution_count": 5,
   "id": "c7d06537",
   "metadata": {},
   "outputs": [],
   "source": [
    "from IPython.display import clear_output"
   ]
  },
  {
   "cell_type": "code",
   "execution_count": 23,
   "id": "f0e5986b",
   "metadata": {},
   "outputs": [
    {
     "name": "stdout",
     "output_type": "stream",
     "text": [
      "Sam wins the blind auction with $8000\n"
     ]
    }
   ],
   "source": [
    "#Blind Auction Program\n",
    "\n",
    "bidder_dict = {}\n",
    "\n",
    "def secretAuction():\n",
    "    clear_output(wait=False)\n",
    "    \n",
    "    high_amount = 0\n",
    "    for key, value in bidder_dict.items():\n",
    "        if value > high_amount:\n",
    "            high_amount = value \n",
    "    print(f\"{key} wins the blind auction with ${high_amount}\")\n",
    "\n",
    "while True:\n",
    "    bidder_name = input(\"What is your name?: \")\n",
    "    bid_amount = int(input(\"What's your bid?: $\"))\n",
    "    bidder_dict[bidder_name] = bid_amount\n",
    "    other_bidder = input(\"Are there any other bidders? Type 'yes' or 'no'.\")\n",
    "    if other_bidder == \"yes\":\n",
    "        clear_output(wait=False)\n",
    "    elif other_bidder == 'no':\n",
    "        secretAuction()\n",
    "        break\n"
   ]
  }
 ],
 "metadata": {
  "kernelspec": {
   "display_name": "Python 3 (ipykernel)",
   "language": "python",
   "name": "python3"
  },
  "language_info": {
   "codemirror_mode": {
    "name": "ipython",
    "version": 3
   },
   "file_extension": ".py",
   "mimetype": "text/x-python",
   "name": "python",
   "nbconvert_exporter": "python",
   "pygments_lexer": "ipython3",
   "version": "3.9.7"
  }
 },
 "nbformat": 4,
 "nbformat_minor": 5
}
