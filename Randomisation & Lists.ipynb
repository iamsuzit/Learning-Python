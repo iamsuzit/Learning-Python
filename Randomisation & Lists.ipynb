{
  "nbformat": 4,
  "nbformat_minor": 0,
  "metadata": {
    "colab": {
      "name": "Randomisation & Python.ipynb",
      "provenance": [],
      "authorship_tag": "ABX9TyMIXeLYgcLSG4o0extT654S"
    },
    "kernelspec": {
      "name": "python3",
      "display_name": "Python 3"
    },
    "language_info": {
      "name": "python"
    }
  },
  "cells": [
    {
      "cell_type": "markdown",
      "metadata": {
        "id": "PBUOGTA9hEdX"
      },
      "source": [
        "**Python Module: Randomisation & Lists**"
      ]
    },
    {
      "cell_type": "markdown",
      "metadata": {
        "id": "xzr5DzW3pr-z"
      },
      "source": [
        "**Random Heads & Tails**"
      ]
    },
    {
      "cell_type": "code",
      "metadata": {
        "colab": {
          "base_uri": "https://localhost:8080/"
        },
        "id": "WvKAxJSwn3ZD",
        "outputId": "4603e016-d27c-436f-ffc4-871bf198379f"
      },
      "source": [
        "import random\n",
        "\n",
        "random_integer = random.randint(0, 1)\n",
        "\n",
        "if random_integer == 0:\n",
        "  print(\"Tails\")\n",
        "else:\n",
        "  print(\"Heads\")"
      ],
      "execution_count": null,
      "outputs": [
        {
          "output_type": "stream",
          "text": [
            "Tails\n"
          ],
          "name": "stdout"
        }
      ]
    },
    {
      "cell_type": "markdown",
      "metadata": {
        "id": "QnRatqKnpxMW"
      },
      "source": [
        "**Banker Roulette: Who will pay the bill?**"
      ]
    },
    {
      "cell_type": "code",
      "metadata": {
        "colab": {
          "base_uri": "https://localhost:8080/"
        },
        "id": "e73XOeHBqXbA",
        "outputId": "f73e3aef-c57d-4f51-af27-48a27d2159ca"
      },
      "source": [
        "import random\n",
        "payer_names = input(\"Give me everybody's names, separated by a comma. \")\n",
        "names = payer_names.split(\", \")\n",
        "\n",
        "random_choice = random.randint(0, len(names)-1)\n",
        "payer = names[random_choice]\n",
        "print(f\"{payer} is going to buy the meal today!\")\n"
      ],
      "execution_count": null,
      "outputs": [
        {
          "output_type": "stream",
          "text": [
            "Give me everybody's names, separated by a comma. Angela, Ben, Jenny, Michael, Chloe\n",
            "Michael is going to buy the meal today!\n"
          ],
          "name": "stdout"
        }
      ]
    },
    {
      "cell_type": "markdown",
      "metadata": {
        "id": "BmYijUwuF2H4"
      },
      "source": [
        "**Treasure Map**\n"
      ]
    },
    {
      "cell_type": "code",
      "metadata": {
        "colab": {
          "base_uri": "https://localhost:8080/"
        },
        "id": "ZsHCG3PfFzBy",
        "outputId": "21ff4890-f8a1-42f2-f43f-0f88bb8c6f1b"
      },
      "source": [
        "row1 = [\"⬜️\",\"⬜️\",\"⬜️\"]\n",
        "row2 = [\"⬜️\",\"⬜️\",\"⬜️\"]\n",
        "row3 = [\"⬜️\",\"⬜️\",\"⬜️\"]\n",
        "map = [row1, row2, row3]\n",
        "print(f\"{row1}\\n{row2}\\n{row3}\")\n",
        "position = input(\"Where do you want to put the treasure? \")\n",
        "\n",
        "#split the string input to two int\n",
        "horizontal = int(position[0])\n",
        "vertical = int(position[1])\n",
        "\n",
        "selected_row = (map[vertical - 1]) \n",
        "selected_row[horizontal-1] = \"X\"   \n",
        "\n",
        "print(f\"{row1}\\n{row2}\\n{row3}\")"
      ],
      "execution_count": 1,
      "outputs": [
        {
          "output_type": "stream",
          "text": [
            "['⬜️', '⬜️', '⬜️']\n",
            "['⬜️', '⬜️', '⬜️']\n",
            "['⬜️', '⬜️', '⬜️']\n",
            "Where do you want to put the treasure? 23\n",
            "['⬜️', '⬜️', '⬜️']\n",
            "['⬜️', '⬜️', '⬜️']\n",
            "['⬜️', 'X', '⬜️']\n"
          ],
          "name": "stdout"
        }
      ]
    }
  ]
}