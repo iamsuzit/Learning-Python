{
  "nbformat": 4,
  "nbformat_minor": 0,
  "metadata": {
    "colab": {
      "name": "Control Flow & Logical Operators",
      "provenance": [],
      "collapsed_sections": [],
      "authorship_tag": "ABX9TyPzlB5Fmw8lqnFA0LWRcTxl"
    },
    "kernelspec": {
      "name": "python3",
      "display_name": "Python 3"
    },
    "language_info": {
      "name": "python"
    }
  },
  "cells": [
    {
      "cell_type": "markdown",
      "metadata": {
        "id": "SxPwWtOLVQmF"
      },
      "source": [
        "**Python Module:Control Flow and Logical Operators**\n",
        "\n"
      ]
    },
    {
      "cell_type": "markdown",
      "metadata": {
        "id": "rEGzlEdEj6hD"
      },
      "source": [
        "**Check if the input is odd or even**"
      ]
    },
    {
      "cell_type": "code",
      "metadata": {
        "colab": {
          "base_uri": "https://localhost:8080/"
        },
        "id": "Tf5UpPq2Zplh",
        "outputId": "d5d82e71-6585-4c16-aaf6-7e3735fa9832"
      },
      "source": [
        "userNum = int(input(\"Which number do you want to check: \"))\n",
        "if userNum % 2 == 0:\n",
        "  print(\"even\")\n",
        "else:\n",
        "  print(\"odd\")"
      ],
      "execution_count": null,
      "outputs": [
        {
          "output_type": "stream",
          "text": [
            "Which number do you want to check: 10\n",
            "even\n"
          ],
          "name": "stdout"
        }
      ]
    },
    {
      "cell_type": "markdown",
      "metadata": {
        "id": "yyRyTT4DkAp6"
      },
      "source": [
        "**Rollercoaster hieght and pay**"
      ]
    },
    {
      "cell_type": "code",
      "metadata": {
        "colab": {
          "base_uri": "https://localhost:8080/"
        },
        "id": "7HBhpX0de7zi",
        "outputId": "3f348649-5494-4e6b-f0d9-50f686197082"
      },
      "source": [
        "print(\"Welcome to the rollercoaster!\")\n",
        "height = int(input(\"What is your height in cm? \"))\n",
        "\n",
        "if height >= 120:\n",
        "  print(\"You can ride the rollercoaster!\")\n",
        "  age = int(input(\"What is your age? \"))\n",
        "  if age < 12:\n",
        "    print(\"Please pay $5\")\n",
        "  elif age >= 12 and age <= 18:\n",
        "    print(\"Please pay $7\")\n",
        "  else:\n",
        "    print(\"Please pay $12\")\n",
        "else:\n",
        "  print(\"Sorry, you have do not meet the height requirement!\")"
      ],
      "execution_count": 8,
      "outputs": [
        {
          "output_type": "stream",
          "text": [
            "Welcome to the rollercoaster!\n",
            "What is your height in cm? 125\n",
            "You can ride the rollercoaster!\n",
            "What is your age? 14\n",
            "Please pay $7\n"
          ],
          "name": "stdout"
        }
      ]
    },
    {
      "cell_type": "markdown",
      "metadata": {
        "id": "EmokbvVxkHt6"
      },
      "source": [
        "**BMI Calculator**"
      ]
    },
    {
      "cell_type": "code",
      "metadata": {
        "colab": {
          "base_uri": "https://localhost:8080/"
        },
        "id": "2ZGoKeAwkKHt",
        "outputId": "f71566a5-16aa-4a14-ed27-c93b54fbbf45"
      },
      "source": [
        "weight = float(input(\"Enter your weight in kg: \"))\n",
        "height = float(input(\"Enter your height in m: \"))\n",
        "bmi = round(weight / (height ** 2))\n",
        "\n",
        "if bmi < 18.5:\n",
        "  print(f\"Your BMI is {bmi} and you are underweight.\")\n",
        "elif bmi > 18.5 and bmi < 25:\n",
        "  print(f\"Your BMI is {bmi} and you have normal weight.\")\n",
        "elif bmi > 25 and bmi < 30:\n",
        "  print(f\"Your BMI is {bmi} and you are overweight.\")\n",
        "elif bmi > 30 and bmi < 35:\n",
        "  print(f\"Your BMI is {bmi} and you are obese.\")\n",
        "else:\n",
        "  print(f\"Your BMI is {bmi} and you are clinically obese.\")\n"
      ],
      "execution_count": 1,
      "outputs": [
        {
          "output_type": "stream",
          "text": [
            "Enter your weight in kg: 85\n",
            "Enter your height in m: 1.75\n",
            "Your BMI is 28 and you are overweight.\n"
          ],
          "name": "stdout"
        }
      ]
    },
    {
      "cell_type": "markdown",
      "metadata": {
        "id": "8C6sMXwhuQq3"
      },
      "source": [
        "**Leap Year**"
      ]
    },
    {
      "cell_type": "code",
      "metadata": {
        "colab": {
          "base_uri": "https://localhost:8080/"
        },
        "id": "UT_59mPksjJ5",
        "outputId": "d8532883-8467-4650-dca5-71f60ebec21d"
      },
      "source": [
        "year = int(input(\"Which year do you want to check? \"))\n",
        "\n",
        "if year % 4 == 0: \n",
        "  if year % 100 == 0:\n",
        "    if year % 400 == 0:\n",
        "      print(f\"{year} is a leap year.\")\n",
        "    else:\n",
        "      print(f\"{year} is not a leap year \")\n",
        "  else:\n",
        "    print(f\"{year} is a leap year.\")\n",
        "else:\n",
        "  print(f\"{year} is not a leap year \")\n",
        "\n"
      ],
      "execution_count": 7,
      "outputs": [
        {
          "output_type": "stream",
          "text": [
            "Which year do you want to check? 2020\n",
            "2020 is a leap year.\n"
          ],
          "name": "stdout"
        }
      ]
    },
    {
      "cell_type": "markdown",
      "metadata": {
        "id": "e-RP2u-jylCV"
      },
      "source": [
        "**Treasure Island**\n",
        "\n"
      ]
    },
    {
      "cell_type": "code",
      "metadata": {
        "colab": {
          "base_uri": "https://localhost:8080/"
        },
        "id": "OCKUwkqjw63M",
        "outputId": "8e5809dc-0e7d-4821-8e3d-9c7063e575f1"
      },
      "source": [
        "print('''\n",
        "*******************************************************************************\n",
        "          |                   |                  |                     |\n",
        " _________|________________.=\"\"_;=.______________|_____________________|_______\n",
        "|                   |  ,-\"_,=\"\"     `\"=.|                  |\n",
        "|___________________|__\"=._o`\"-._        `\"=.______________|___________________\n",
        "          |                `\"=._o`\"=._      _`\"=._                     |\n",
        " _________|_____________________:=._o \"=._.\"_.-=\"'\"=.__________________|_______\n",
        "|                   |    __.--\" , ; `\"=._o.\" ,-\"\"\"-._ \".   |\n",
        "|___________________|_._\"  ,. .` ` `` ,  `\"-._\"-._   \". '__|___________________\n",
        "          |           |o`\"=._` , \"` `; .\". ,  \"-._\"-._; ;              |\n",
        " _________|___________| ;`-.o`\"=._; .\" ` '`.\"\\` . \"-._ /_______________|_______\n",
        "|                   | |o;    `\"-.o`\"=._``  '` \" ,__.--o;   |\n",
        "|___________________|_| ;     (#) `-.o `\"=.`_.--\"_o.-; ;___|___________________\n",
        "____/______/______/___|o;._    \"      `\".o|o_.--\"    ;o;____/______/______/____\n",
        "/______/______/______/_\"=._o--._        ; | ;        ; ;/______/______/______/_\n",
        "____/______/______/______/__\"=._o--._   ;o|o;     _._;o;____/______/______/____\n",
        "/______/______/______/______/____\"=._o._; | ;_.--\"o.--\"_/______/______/______/_\n",
        "____/______/______/______/______/_____\"=.o|o_.--\"\"___/______/______/______/____\n",
        "/______/______/______/______/______/______/______/______/______/______/_____ /\n",
        "*******************************************************************************\n",
        "''')\n",
        "print(\"Welcome to Treasure Island.\")\n",
        "print(\"Your mission is to find the treasure.\") \n",
        "\n",
        "firstTurn = input(\"You're at a corss road. Where do you want to go? Type\" + \" left\" + \" or right \").lower()\n",
        "if firstTurn == \"right\":\n",
        "  secondTurn = input('You\\'ve arrived at the river. Would you like to \"swim\" or \"wait\" for a boat? ').lower()\n",
        "  if secondTurn == \"swim\":\n",
        "    thirdTurn = input('Congratulations! You\\'ve made it to the other side of the river. Would you like to \"camp\" and hike next day or \"hike\" now to the next stop? ').lower()\n",
        "    if thirdTurn == \"camp\":\n",
        "      fourthTurn = input('You\\'ve arrived at the final stop. Select a colored door \"red\", \"blue\", \"pink\" ').lower()\n",
        "      if fourthTurn == \"red\":\n",
        "        print(\"It's a room full of fire. you're dead. Game Over!\")\n",
        "      elif fourthTurn == \"blue\":\n",
        "        print(\"It's a room full of treasure. You Win!\")\n",
        "      elif fourthTurn == \"pink\":\n",
        "        print(\"It's a room full of timebombs. You're dead. Game Over!\")\n",
        "      else:\n",
        "        print(\"You didn't select any door. You're Dead, Game Over!\")\n",
        "\n",
        "    else:\n",
        "      print(\"You died of dehydration and lack of rest!\")\n",
        "  else:\n",
        "    print(\"Sorry! You've been devoured by a lion.\")\n",
        "else:\n",
        " print(\"You fell into a trap, Game Over!\")"
      ],
      "execution_count": 11,
      "outputs": [
        {
          "output_type": "stream",
          "text": [
            "\n",
            "*******************************************************************************\n",
            "          |                   |                  |                     |\n",
            " _________|________________.=\"\"_;=.______________|_____________________|_______\n",
            "|                   |  ,-\"_,=\"\"     `\"=.|                  |\n",
            "|___________________|__\"=._o`\"-._        `\"=.______________|___________________\n",
            "          |                `\"=._o`\"=._      _`\"=._                     |\n",
            " _________|_____________________:=._o \"=._.\"_.-=\"'\"=.__________________|_______\n",
            "|                   |    __.--\" , ; `\"=._o.\" ,-\"\"\"-._ \".   |\n",
            "|___________________|_._\"  ,. .` ` `` ,  `\"-._\"-._   \". '__|___________________\n",
            "          |           |o`\"=._` , \"` `; .\". ,  \"-._\"-._; ;              |\n",
            " _________|___________| ;`-.o`\"=._; .\" ` '`.\"\\` . \"-._ /_______________|_______\n",
            "|                   | |o;    `\"-.o`\"=._``  '` \" ,__.--o;   |\n",
            "|___________________|_| ;     (#) `-.o `\"=.`_.--\"_o.-; ;___|___________________\n",
            "____/______/______/___|o;._    \"      `\".o|o_.--\"    ;o;____/______/______/____\n",
            "/______/______/______/_\"=._o--._        ; | ;        ; ;/______/______/______/_\n",
            "____/______/______/______/__\"=._o--._   ;o|o;     _._;o;____/______/______/____\n",
            "/______/______/______/______/____\"=._o._; | ;_.--\"o.--\"_/______/______/______/_\n",
            "____/______/______/______/______/_____\"=.o|o_.--\"\"___/______/______/______/____\n",
            "/______/______/______/______/______/______/______/______/______/______/_____ /\n",
            "*******************************************************************************\n",
            "\n",
            "Welcome to Treasure Island.\n",
            "Your mission is to find the treasure.\n",
            "You're at a corss road. Where do you want to go? Type left or right right\n",
            "You've arrived at the river. Would you like to \"swim\" or \"wait\" for a boat? swim\n",
            "Congratulations! You've made it to the other side of the river. Would you like to \"camp\" and hike next day or \"hike\" now to the next stop? camp\n",
            "You've arrived at the final stop. Select a colored door \"red\", \"blue\", \"pink\" blue\n",
            "It's a room full of treasure. You Win!\n"
          ],
          "name": "stdout"
        }
      ]
    }
  ]
}