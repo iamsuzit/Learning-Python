{
  "nbformat": 4,
  "nbformat_minor": 0,
  "metadata": {
    "colab": {
      "name": "Python Loops.ipynb",
      "provenance": [],
      "authorship_tag": "ABX9TyMwyi1Z4MBQe/zLMsIpu4Ak"
    },
    "kernelspec": {
      "name": "python3",
      "display_name": "Python 3"
    },
    "language_info": {
      "name": "python"
    }
  },
  "cells": [
    {
      "cell_type": "code",
      "metadata": {
        "colab": {
          "base_uri": "https://localhost:8080/"
        },
        "id": "hISODz7ShLS2",
        "outputId": "9501aa14-967d-48f5-fec2-978e303979f8"
      },
      "source": [
        "fruits = [\"Apple\", \"Peach\", \"Pear\"]\n",
        "for item in fruits:\n",
        "  print(item)"
      ],
      "execution_count": null,
      "outputs": [
        {
          "output_type": "stream",
          "text": [
            "Apple\n",
            "Peach\n",
            "Pear\n"
          ],
          "name": "stdout"
        }
      ]
    },
    {
      "cell_type": "code",
      "metadata": {
        "id": "rZP4O5vOB8Ys"
      },
      "source": [
        "for i in range(9, 51):\n",
        "  if i % 2 == 0:\n",
        "    print(i, \" is divisible by 2\")"
      ],
      "execution_count": null,
      "outputs": []
    },
    {
      "cell_type": "code",
      "metadata": {
        "colab": {
          "base_uri": "https://localhost:8080/"
        },
        "id": "Doyqws54XWd3",
        "outputId": "5684713c-8249-47cf-c6c5-61ea8ed37ac1"
      },
      "source": [
        "name = \"joker jack\"\n",
        "\n",
        "count = 0\n",
        "for char in name:\n",
        "    if char != 'j':\n",
        "        continue\n",
        "    else:\n",
        "        count = count + 1\n",
        "\n",
        "print('Total number of j is:', count)"
      ],
      "execution_count": null,
      "outputs": [
        {
          "output_type": "stream",
          "text": [
            "Total number of j is: 2\n"
          ],
          "name": "stdout"
        }
      ]
    },
    {
      "cell_type": "markdown",
      "metadata": {
        "id": "DHisXiQ6-H5_"
      },
      "source": [
        "**Calculate Average Height**"
      ]
    },
    {
      "cell_type": "code",
      "metadata": {
        "colab": {
          "base_uri": "https://localhost:8080/"
        },
        "id": "JjSNWYTg-NJG",
        "outputId": "963e96b7-7db7-42a1-d5d7-3d31bc2c7359"
      },
      "source": [
        "student_heights = input(\"Enter the list of heights \").split( )\n",
        "\n",
        "#casting each string from list to int\n",
        "for i in range(0, len(student_heights)):\n",
        "  student_heights[i] = int(student_heights[i])\n",
        "\n",
        "total_height = 0\n",
        "for height in student_heights:\n",
        "  total_height += height\n",
        "#print(total_height)\n",
        "\n",
        "student_count = 0\n",
        "for student in student_heights:\n",
        "  student_count += 1 \n",
        "#print(student_count)\n",
        "\n",
        "avg_height = round(total_height / student_count)\n",
        "print(f\"The average height of the student is {avg_height}\")"
      ],
      "execution_count": null,
      "outputs": [
        {
          "output_type": "stream",
          "text": [
            "Enter the list of heights 130 140 145 150\n",
            "The average height of the student is 141\n"
          ],
          "name": "stdout"
        }
      ]
    },
    {
      "cell_type": "markdown",
      "metadata": {
        "id": "j6W6jXfH5V40"
      },
      "source": [
        "**Find The Heighest Score**"
      ]
    },
    {
      "cell_type": "code",
      "metadata": {
        "colab": {
          "base_uri": "https://localhost:8080/"
        },
        "id": "-fR9g6za5WEL",
        "outputId": "0c580d30-768c-4425-bc43-4503b1bc0e74"
      },
      "source": [
        "student_scores = input(\"Input a list of student scores \").split(\",\")\n",
        "for n in range(0, len(student_scores)):\n",
        "  student_scores[n] = int(student_scores[n])\n",
        "\n",
        "highest_score = 0\n",
        "for score in student_scores:\n",
        "  if score > highest_score:\n",
        "    highest_score = score\n",
        "print(highest_score)"
      ],
      "execution_count": null,
      "outputs": [
        {
          "output_type": "stream",
          "text": [
            "Input a list of student scores 2, 3, 4\n",
            "4\n"
          ],
          "name": "stdout"
        }
      ]
    },
    {
      "cell_type": "code",
      "metadata": {
        "id": "bR7YV9BZCBXV"
      },
      "source": [
        ""
      ],
      "execution_count": null,
      "outputs": []
    },
    {
      "cell_type": "markdown",
      "metadata": {
        "id": "nZEW1TQZsHiU"
      },
      "source": [
        "**For Loop with Range()**"
      ]
    },
    {
      "cell_type": "code",
      "metadata": {
        "colab": {
          "base_uri": "https://localhost:8080/"
        },
        "id": "RZUD3YfCsM7y",
        "outputId": "96806fe7-814b-4ed9-cfad-df2f305c1363"
      },
      "source": [
        "x = 0\n",
        "for num in range(1, 101):\n",
        "  x += num  #or x = num + x\n",
        "print(x)"
      ],
      "execution_count": 6,
      "outputs": [
        {
          "output_type": "stream",
          "text": [
            "5050\n"
          ],
          "name": "stdout"
        }
      ]
    },
    {
      "cell_type": "code",
      "metadata": {
        "id": "4AvpJwKjvp_W"
      },
      "source": [
        ""
      ],
      "execution_count": null,
      "outputs": []
    },
    {
      "cell_type": "markdown",
      "metadata": {
        "id": "s6pBMx8lvuBM"
      },
      "source": [
        "**Adding Even Numbers**"
      ]
    },
    {
      "cell_type": "code",
      "metadata": {
        "colab": {
          "base_uri": "https://localhost:8080/"
        },
        "id": "w9m5xnhlvxSI",
        "outputId": "a50e3f9f-2b03-4685-9e27-f2d080bc0420"
      },
      "source": [
        "total = 0\n",
        "for num in range(1, 101):\n",
        "  if num % 2 == 0:\n",
        "    total = num + total\n",
        "print(total)"
      ],
      "execution_count": 19,
      "outputs": [
        {
          "output_type": "stream",
          "text": [
            "2550\n"
          ],
          "name": "stdout"
        }
      ]
    },
    {
      "cell_type": "code",
      "metadata": {
        "id": "C9RrsHRByZ9f"
      },
      "source": [
        ""
      ],
      "execution_count": null,
      "outputs": []
    },
    {
      "cell_type": "markdown",
      "metadata": {
        "id": "g6M-qqyDyatY"
      },
      "source": [
        "**The FizzBuzz**"
      ]
    },
    {
      "cell_type": "code",
      "metadata": {
        "colab": {
          "base_uri": "https://localhost:8080/"
        },
        "id": "BkN4T5GfyoBa",
        "outputId": "da53d20b-c2ba-457e-d6aa-10e6d46c61e4"
      },
      "source": [
        "\n",
        "for num in range(1, 101):\n",
        "  if num % 3 == 0 and num % 5 == 0:\n",
        "    print(\"FizzBuzz\")\n",
        "  elif num % 5 == 0:\n",
        "      print(\"Buzz\")\n",
        "  elif num % 3 == 0:\n",
        "      print(\"Fizz\")\n",
        "  else:\n",
        "    print(num)\n"
      ],
      "execution_count": 32,
      "outputs": [
        {
          "output_type": "stream",
          "text": [
            "1\n",
            "2\n",
            "Fizz\n",
            "4\n",
            "Buzz\n",
            "Fizz\n",
            "7\n",
            "8\n",
            "Fizz\n",
            "Buzz\n",
            "11\n",
            "Fizz\n",
            "13\n",
            "14\n",
            "FizzBuzz\n",
            "16\n",
            "17\n",
            "Fizz\n",
            "19\n",
            "Buzz\n",
            "Fizz\n",
            "22\n",
            "23\n",
            "Fizz\n",
            "Buzz\n",
            "26\n",
            "Fizz\n",
            "28\n",
            "29\n",
            "FizzBuzz\n",
            "31\n",
            "32\n",
            "Fizz\n",
            "34\n",
            "Buzz\n",
            "Fizz\n",
            "37\n",
            "38\n",
            "Fizz\n",
            "Buzz\n",
            "41\n",
            "Fizz\n",
            "43\n",
            "44\n",
            "FizzBuzz\n",
            "46\n",
            "47\n",
            "Fizz\n",
            "49\n",
            "Buzz\n",
            "Fizz\n",
            "52\n",
            "53\n",
            "Fizz\n",
            "Buzz\n",
            "56\n",
            "Fizz\n",
            "58\n",
            "59\n",
            "FizzBuzz\n",
            "61\n",
            "62\n",
            "Fizz\n",
            "64\n",
            "Buzz\n",
            "Fizz\n",
            "67\n",
            "68\n",
            "Fizz\n",
            "Buzz\n",
            "71\n",
            "Fizz\n",
            "73\n",
            "74\n",
            "FizzBuzz\n",
            "76\n",
            "77\n",
            "Fizz\n",
            "79\n",
            "Buzz\n",
            "Fizz\n",
            "82\n",
            "83\n",
            "Fizz\n",
            "Buzz\n",
            "86\n",
            "Fizz\n",
            "88\n",
            "89\n",
            "FizzBuzz\n",
            "91\n",
            "92\n",
            "Fizz\n",
            "94\n",
            "Buzz\n",
            "Fizz\n",
            "97\n",
            "98\n",
            "Fizz\n",
            "Buzz\n"
          ],
          "name": "stdout"
        }
      ]
    }
  ]
}