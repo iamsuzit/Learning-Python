{
  "nbformat": 4,
  "nbformat_minor": 0,
  "metadata": {
    "colab": {
      "name": "Functions.ipynb",
      "provenance": [],
      "authorship_tag": "ABX9TyNt6gyYycX+zY7AnkoIiUg6"
    },
    "kernelspec": {
      "name": "python3",
      "display_name": "Python 3"
    },
    "language_info": {
      "name": "python"
    }
  },
  "cells": [
    {
      "cell_type": "code",
      "metadata": {
        "colab": {
          "base_uri": "https://localhost:8080/"
        },
        "id": "PjPM7SxJtp2R",
        "outputId": "54044c3d-dcd5-4b7c-ad78-24f4d0a87ae0"
      },
      "source": [
        "def my_function():\n",
        "  print(\"Hello World!\")\n",
        "\n",
        "my_function()"
      ],
      "execution_count": 1,
      "outputs": [
        {
          "output_type": "stream",
          "text": [
            "Hello World!\n"
          ],
          "name": "stdout"
        }
      ]
    },
    {
      "cell_type": "code",
      "metadata": {
        "id": "IyVYza18eJ8v"
      },
      "source": [
        "def turn_right():\n",
        "    turn_left()\n",
        "    turn_left()\n",
        "    turn_left()\n",
        "    move()\n",
        "\n",
        "def turnleft():\n",
        "    turn_left()\n",
        "    turn_left()\n",
        "    \n",
        "def jump_up():\n",
        "    turn_left()\n",
        "    move()\n",
        "    turn_right()\n",
        "    turn_right()\n",
        "    turn_left()\n",
        "\n",
        "while not at_goal():\n",
        "    if wall_in_front():\n",
        "        jump_up() \n",
        "    else:\n",
        "        move()"
      ],
      "execution_count": null,
      "outputs": []
    }
  ]
}