{
  "nbformat": 4,
  "nbformat_minor": 0,
  "metadata": {
    "colab": {
      "name": "Rock Paper Scissor Game.ipynb",
      "provenance": [],
      "authorship_tag": "ABX9TyOApL+2vYldNJMJRun6qd6u"
    },
    "kernelspec": {
      "name": "python3",
      "display_name": "Python 3"
    },
    "language_info": {
      "name": "python"
    }
  },
  "cells": [
    {
      "cell_type": "code",
      "metadata": {
        "colab": {
          "base_uri": "https://localhost:8080/"
        },
        "id": "mnUmg_gkSi9Q",
        "outputId": "ce4e086d-6349-4469-ed3c-3f808bfe30b7"
      },
      "source": [
        "import random\n",
        "\n",
        "rock = '''\n",
        "    _______\n",
        "---'   ____)\n",
        "      (_____)\n",
        "      (_____)\n",
        "      (____)\n",
        "---.__(___)\n",
        "'''\n",
        "\n",
        "paper = '''\n",
        "    _______\n",
        "---'   ____)____\n",
        "          ______)\n",
        "          _______)\n",
        "         _______)\n",
        "---.__________)\n",
        "'''\n",
        "\n",
        "scissors = '''\n",
        "    _______\n",
        "---'   ____)____\n",
        "          ______)\n",
        "       __________)\n",
        "      (____)\n",
        "---.__(___)\n",
        "'''\n",
        "\n",
        "game_sign = [rock, paper, scissors]\n",
        "user_input = int(input(\"What do you choose? Type 0 for Rock, 1 for Paper or 2 for Scissors. \"))\n",
        "print(game_sign[user_input])\n",
        "\n",
        "computer_choice = random.randint(0, 2)\n",
        "print(\"Computer choose: \" + game_sign[computer_choice])\n",
        "\n",
        "if user_input == 0 and computer_choice == 2:\n",
        "  print(\"You Win!\")\n",
        "elif user_input >= 3 or user_input < 0:\n",
        "  print(\"You entered an invalid number!\")\n",
        "elif computer_choice == 0 and user_input == 2:\n",
        "  print(\"You Lose!\")\n",
        "elif computer_choice > user_input:\n",
        "  print(\"You Lose!\")\n",
        "elif user_input > computer_choice:\n",
        "  print(\"You Win!\")\n",
        "elif computer_choice == user_input:\n",
        "  print(\"Draw!\")\n"
      ],
      "execution_count": 31,
      "outputs": [
        {
          "output_type": "stream",
          "text": [
            "What do you choose? Type 0 for Rock, 1 for Paper or 2 for Scissors. 0\n",
            "\n",
            "    _______\n",
            "---'   ____)\n",
            "      (_____)\n",
            "      (_____)\n",
            "      (____)\n",
            "---.__(___)\n",
            "\n",
            "Computer choose: \n",
            "    _______\n",
            "---'   ____)____\n",
            "          ______)\n",
            "       __________)\n",
            "      (____)\n",
            "---.__(___)\n",
            "\n",
            "You Win!\n"
          ],
          "name": "stdout"
        }
      ]
    }
  ]
}