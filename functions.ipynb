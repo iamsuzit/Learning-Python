{
 "cells": [
  {
   "cell_type": "code",
   "execution_count": 2,
   "id": "43e8a964",
   "metadata": {},
   "outputs": [
    {
     "name": "stdout",
     "output_type": "stream",
     "text": [
      "hello sujit\n"
     ]
    }
   ],
   "source": [
    "def greet(name):\n",
    "    print(\"hello\", name)\n",
    "\n",
    "greet(\"sujit\")\n",
    "\n",
    "# parameter is the \"name\" and argument is the \"sujit\""
   ]
  },
  {
   "cell_type": "code",
   "execution_count": 4,
   "id": "02147be0",
   "metadata": {},
   "outputs": [
    {
     "data": {
      "text/plain": [
       "10"
      ]
     },
     "execution_count": 4,
     "metadata": {},
     "output_type": "execute_result"
    }
   ],
   "source": [
    "def sum(x, y, z):\n",
    "    res = x + y + z\n",
    "    return res\n",
    "\n",
    "sum(3, 2, 5)"
   ]
  },
  {
   "cell_type": "code",
   "execution_count": 3,
   "id": "1317cc6d",
   "metadata": {},
   "outputs": [],
   "source": [
    "import math"
   ]
  },
  {
   "cell_type": "code",
   "execution_count": 5,
   "id": "9a9eb234",
   "metadata": {},
   "outputs": [
    {
     "name": "stdout",
     "output_type": "stream",
     "text": [
      "Height of wall: 4\n",
      "Width of wall: 9\n",
      "You'll need 8 cans of paint\n"
     ]
    }
   ],
   "source": [
    "# calculate need of paint cans \n",
    "\n",
    "test_h = int(input(\"Height of wall: \"))\n",
    "test_w = int(input(\"Width of wall: \"))\n",
    "coverage = 5\n",
    "\n",
    "def paint_calc(height, width, cover):\n",
    "    can_num = (height * width) / cover\n",
    "    print(f\"You'll need {math.ceil(can_num)} cans of paint\")\n",
    "\n",
    "paint_calc(height=test_h, width=test_w, cover=coverage)\n",
    "    "
   ]
  },
  {
   "cell_type": "code",
   "execution_count": 79,
   "id": "ba405aec",
   "metadata": {},
   "outputs": [
    {
     "name": "stdout",
     "output_type": "stream",
     "text": [
      "Enter a number to check if prime or not: 11\n",
      "It's a prime number.\n"
     ]
    }
   ],
   "source": [
    "# prime number checker\n",
    "\n",
    "user_num = int(input(\"Enter a number to check if prime or not: \"))\n",
    "\n",
    "def prime_checker(number):\n",
    "    count = 0 # keeps count of the factors\n",
    "    for num in range(1, number + 1): # loop every number from the user num range\n",
    "        if number % num == 0: # check if user num is divisible cleanly by each number from range\n",
    "            count += 1 # if divisible cleanly then count\n",
    "    if count == 2: # prime num should only be divisible by 1 and itself so always factor should be 2\n",
    "        print(\"It's a prime number.\")\n",
    "    else: \n",
    "        print(\"It's not a prime number.\")\n",
    "\n",
    "prime_checker(number=user_num)"
   ]
  }
 ],
 "metadata": {
  "kernelspec": {
   "display_name": "Python 3 (ipykernel)",
   "language": "python",
   "name": "python3"
  },
  "language_info": {
   "codemirror_mode": {
    "name": "ipython",
    "version": 3
   },
   "file_extension": ".py",
   "mimetype": "text/x-python",
   "name": "python",
   "nbconvert_exporter": "python",
   "pygments_lexer": "ipython3",
   "version": "3.9.7"
  }
 },
 "nbformat": 4,
 "nbformat_minor": 5
}
